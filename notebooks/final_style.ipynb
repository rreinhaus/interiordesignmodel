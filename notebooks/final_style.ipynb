{
 "cells": [
  {
   "cell_type": "markdown",
   "id": "9d8d7719-1ca5-4981-ae2e-ecff7d2b7a44",
   "metadata": {},
   "source": [
    "# Interior Design Style Model\n",
    "\n",
    "This is the final notebook for the interior design style model, where we collect the data from two API's and merge it into one dataframe. \n",
    "Once we merge the dataset, we preprocess it and test it on different ML and DL models to evaluate their performance.\n",
    "\n",
    "**Please note:** \n",
    "- The dataset is quite small and results may not be the best, because data quality and accuracy of the stye representations from the API's. \n",
    "- The ML and DL models do not involve super endless hypertunning to get the highest possible results, because the main objective is to get a model that gets at least 50% accuracy and to test my capabilites for the first personal project"
   ]
  },
  {
   "cell_type": "markdown",
   "id": "98c404cd-baf5-4daa-9dbc-74f7877eb793",
   "metadata": {
    "tags": []
   },
   "source": [
    "# Data Collection from the API's"
   ]
  },
  {
   "cell_type": "code",
   "execution_count": 23,
   "id": "96e32b8d-bf6c-43e3-bbfd-ed4a9a11a67b",
   "metadata": {},
   "outputs": [],
   "source": [
    "# Importing the required libaries\n",
    "import numpy as np\n",
    "import pandas as pd\n",
    "import matplotlib.pyplot as plt\n",
    "import requests\n",
    "import json\n",
    "from pexels_api import API\n",
    "\n",
    "# Libraries for NLP\n",
    "from nltk.corpus import stopwords \n",
    "import string\n",
    "from nltk.stem.wordnet import WordNetLemmatizer\n",
    "from nltk import word_tokenize \n",
    "from sklearn.feature_extraction.text import TfidfVectorizer\n",
    "from sklearn.naive_bayes import MultinomialNB\n",
    "from sklearn.pipeline import make_pipeline\n",
    "from sklearn.model_selection import train_test_split\n",
    "\n",
    "\n",
    "# For improving the NLP\n",
    "from sklearn.model_selection import GridSearchCV\n",
    "from sklearn.pipeline import Pipeline\n",
    "\n",
    "# For Linear SVM\n",
    "from sklearn.linear_model import SGDClassifier\n",
    "from sklearn.feature_extraction.text import CountVectorizer, TfidfTransformer\n",
    "import time\n",
    "\n",
    "\n",
    "# For Deep Learning Model\n",
    "from tensorflow.keras.preprocessing.text import Tokenizer\n",
    "from tensorflow.keras.preprocessing.sequence import pad_sequences\n",
    "from tensorflow.keras import Sequential, layers\n",
    "from tensorflow.keras.callbacks import EarlyStopping\n",
    "\n",
    "# Metrics\n",
    "from sklearn.metrics import confusion_matrix, accuracy_score"
   ]
  },
  {
   "cell_type": "code",
   "execution_count": 41,
   "id": "96615c6b-2fbf-4a5c-91c9-31263c2d5dda",
   "metadata": {},
   "outputs": [],
   "source": [
    "# API information\n",
    "\n",
    "url = 'YOUR-API-KEY'\n",
    "Api_key = 'YOUR-API-KEY'\n",
    "api = API(Api_key)\n"
   ]
  },
  {
   "cell_type": "code",
   "execution_count": 7,
   "id": "8be7d77b-98a4-43a3-a8cc-dcdfe8e8a6a8",
   "metadata": {},
   "outputs": [],
   "source": [
    "# API Functions\n",
    "\n",
    "def all_df(style_list):\n",
    "    \"\"\"Fuction gets API data from a list of styles \n",
    "    and creates one full df with the required columns\"\"\"\n",
    "    style_df = []\n",
    "    \n",
    "    for index, style in enumerate(style_list):\n",
    "        data_list = []\n",
    "        for i in range(1,20):\n",
    "                photos = requests.get(url+f'&q={style_list[index]}&image_type=photo&page={i}').json()\n",
    "                data_list.append(pd.DataFrame.from_dict(photos['hits']))\n",
    "                \n",
    "        merged = pd.concat(data_list)\n",
    "        merged = merged[['id', 'tags']]\n",
    "        merged['style'] = style\n",
    "        style_df.append(merged)\n",
    "    \n",
    "    all_df = pd.concat(style_df)\n",
    "    \n",
    "    return all_df\n",
    "\n",
    "\n",
    "def all_df_pexels(style_list):\n",
    "    \"\"\"Fuction gets API data from a list of styles \n",
    "    and creates one full df with the required columns\"\"\"\n",
    "    style_df = []\n",
    "    \n",
    "    for index, style in enumerate(style_list):\n",
    "        data_list = []\n",
    "        for i in range(1,10):\n",
    "                photos = api.search(style, page=i, results_per_page=45)['photos']\n",
    "                data_list.append(pd.DataFrame.from_dict(photos))\n",
    "                \n",
    "        merged = pd.concat(data_list)\n",
    "        merged = merged[['id', 'alt']]\n",
    "        merged['style'] = style\n",
    "        style_df.append(merged)\n",
    "    \n",
    "    all_df = pd.concat(style_df)\n",
    "    \n",
    "    return all_df\n"
   ]
  },
  {
   "cell_type": "code",
   "execution_count": 8,
   "id": "ddf86752-44c6-47a2-bf0d-b93acd4cba7a",
   "metadata": {},
   "outputs": [],
   "source": [
    "pixabay_df = all_df(['modern+interior','industrial+interior','minimalist+interior','contemporary+interior', 'rustic+interior']).copy()\n",
    "pexels_df = all_df_pexels(['modern interior','industrial interior','minimalist interior','contemporary interior', 'rustic interior', 'scandinavian interior']).copy()"
   ]
  },
  {
   "cell_type": "markdown",
   "id": "c9234af9-a52f-4b5c-ba17-65be52d76c79",
   "metadata": {
    "tags": []
   },
   "source": [
    "# Dataset preprocessing before merging"
   ]
  },
  {
   "cell_type": "code",
   "execution_count": 9,
   "id": "803e8766-38a8-4d33-96d7-ca2f270018db",
   "metadata": {},
   "outputs": [
    {
     "name": "stderr",
     "output_type": "stream",
     "text": [
      "C:\\Users\\Richard\\AppData\\Local\\Temp/ipykernel_20428/1711117945.py:1: FutureWarning: The default value of regex will change from True to False in a future version. In addition, single character regular expressions will *not* be treated as literal strings when regex=True.\n",
      "  pixabay_df['style'] = pixabay_df['style'].str.replace('+', ' ')\n"
     ]
    },
    {
     "data": {
      "text/plain": [
       "[<matplotlib.lines.Line2D at 0x1bbec6bf910>]"
      ]
     },
     "execution_count": 9,
     "metadata": {},
     "output_type": "execute_result"
    },
    {
     "data": {
      "image/png": "[encoded data removed]",
      "text/plain": [
       "<Figure size 432x288 with 1 Axes>"
      ]
     },
     "metadata": {
      "needs_background": "light"
     },
     "output_type": "display_data"
    }
   ],
   "source": [
    "pixabay_df['style'] = pixabay_df['style'].str.replace('+', ' ')\n",
    "pixabay_df.reset_index(inplace=True)\n",
    "pixabay_df.drop(columns='index',inplace=True)\n",
    "plt.plot(pixabay_df['style'])"
   ]
  },
  {
   "cell_type": "code",
   "execution_count": 10,
   "id": "e7929635-db59-4e66-bb0c-b6505f46959e",
   "metadata": {},
   "outputs": [
    {
     "data": {
      "text/plain": [
       "[<matplotlib.lines.Line2D at 0x1bbedde8c70>]"
      ]
     },
     "execution_count": 10,
     "metadata": {},
     "output_type": "execute_result"
    },
    {
     "data": {
      "image/png": "[encoded data removed]",
      "text/plain": [
       "<Figure size 432x288 with 1 Axes>"
      ]
     },
     "metadata": {
      "needs_background": "light"
     },
     "output_type": "display_data"
    }
   ],
   "source": [
    "pixabay_df.drop_duplicates(subset=['tags'], inplace=True)\n",
    "plt.plot(pixabay_df['style'])"
   ]
  },
  {
   "cell_type": "code",
   "execution_count": 11,
   "id": "63f0cd60-901e-44c1-9669-cfd3fcd67384",
   "metadata": {},
   "outputs": [],
   "source": [
    "pixabay_df.reset_index(inplace=True)\n",
    "pixabay_df.drop(columns='index',inplace=True)"
   ]
  },
  {
   "cell_type": "code",
   "execution_count": 12,
   "id": "8c019aca-fbd2-40d0-9f68-7061bb746fa7",
   "metadata": {},
   "outputs": [
    {
     "data": {
      "text/plain": [
       "[<matplotlib.lines.Line2D at 0x1bbec67e970>]"
      ]
     },
     "execution_count": 12,
     "metadata": {},
     "output_type": "execute_result"
    },
    {
     "data": {
      "image/png": "[encoded data removed]",
      "text/plain": [
       "<Figure size 432x288 with 1 Axes>"
      ]
     },
     "metadata": {
      "needs_background": "light"
     },
     "output_type": "display_data"
    }
   ],
   "source": [
    "pexels_df.reset_index(inplace=True)\n",
    "pexels_df.drop(columns='index',inplace=True)\n",
    "pexels_df.drop_duplicates(subset=['alt'], inplace=True)\n",
    "pexels_df['tags']=pexels_df['alt']\n",
    "pexels_df.drop(columns='alt',inplace=True)\n",
    "plt.plot(pexels_df['style'])"
   ]
  },
  {
   "cell_type": "markdown",
   "id": "34897641-eb2e-4971-a31a-b9df98b1a97a",
   "metadata": {},
   "source": [
    "## Merging the datasets"
   ]
  },
  {
   "cell_type": "code",
   "execution_count": 13,
   "id": "111c2f0e-a973-4dbe-bf3a-b2837a7147ba",
   "metadata": {},
   "outputs": [],
   "source": [
    "style_data = pd.concat([pexels_df, pixabay_df])\n",
    "style_data['style'].unique()\n",
    "\n",
    "# Saving the dataset\n",
    "compression_opts = dict(method='zip',archive_name='style.csv')  \n",
    "\n",
    "style_data.to_csv('style.zip', index=False, compression=compression_opts)"
   ]
  },
  {
   "cell_type": "markdown",
   "id": "0d07d451-d494-475e-92b4-d186ae0c74d1",
   "metadata": {},
   "source": [
    "# Preprocessing for the ML modeling"
   ]
  },
  {
   "cell_type": "code",
   "execution_count": 14,
   "id": "8dfe6340-e3e7-4f16-8602-40ba8d9b0ed4",
   "metadata": {},
   "outputs": [],
   "source": [
    "# Function to clean the text information\n",
    "\n",
    "def clean(text):\n",
    "    for punctuation in string.punctuation:\n",
    "        text = text.replace(punctuation, ' ') # Remove Punctuation\n",
    "    lowercased = text.lower() # Lower Case\n",
    "    tokenized = word_tokenize(lowercased) # Tokenize\n",
    "    words_only = [word for word in tokenized if word.isalpha()] # Remove numbers\n",
    "    stop_words = set(stopwords.words('english')) # Make stopword list\n",
    "    without_stopwords = [word for word in words_only if not word in stop_words] # Remove Stop Words\n",
    "    lemma=WordNetLemmatizer() # Initiate Lemmatizer\n",
    "    lemmatized = [lemma.lemmatize(word) for word in without_stopwords] # Lemmatize\n",
    "    return lemmatized"
   ]
  },
  {
   "cell_type": "code",
   "execution_count": 15,
   "id": "4fa677f4-9e31-4c90-b00e-7c36a425e4d8",
   "metadata": {},
   "outputs": [
    {
     "data": {
      "text/html": [
       "<div>\n",
       "<style scoped>\n",
       "    .dataframe tbody tr th:only-of-type {\n",
       "        vertical-align: middle;\n",
       "    }\n",
       "\n",
       "    .dataframe tbody tr th {\n",
       "        vertical-align: top;\n",
       "    }\n",
       "\n",
       "    .dataframe thead th {\n",
       "        text-align: right;\n",
       "    }\n",
       "</style>\n",
       "<table border=\"1\" class=\"dataframe\">\n",
       "  <thead>\n",
       "    <tr style=\"text-align: right;\">\n",
       "      <th></th>\n",
       "      <th>id</th>\n",
       "      <th>style</th>\n",
       "      <th>tags</th>\n",
       "      <th>tags_clean</th>\n",
       "    </tr>\n",
       "  </thead>\n",
       "  <tbody>\n",
       "    <tr>\n",
       "      <th>0</th>\n",
       "      <td>10339232</td>\n",
       "      <td>modern interior</td>\n",
       "      <td>Modern Office Interior</td>\n",
       "      <td>['modern', 'office', 'interior']</td>\n",
       "    </tr>\n",
       "    <tr>\n",
       "      <th>1</th>\n",
       "      <td>7546288</td>\n",
       "      <td>modern interior</td>\n",
       "      <td>White and Brown Bed Linen</td>\n",
       "      <td>['white', 'brown', 'bed', 'linen']</td>\n",
       "    </tr>\n",
       "    <tr>\n",
       "      <th>2</th>\n",
       "      <td>7546218</td>\n",
       "      <td>modern interior</td>\n",
       "      <td>A Dining Table and Chairs with Hanging Lights ...</td>\n",
       "      <td>['dining', 'table', 'chair', 'hanging', 'light...</td>\n",
       "    </tr>\n",
       "    <tr>\n",
       "      <th>3</th>\n",
       "      <td>7545855</td>\n",
       "      <td>modern interior</td>\n",
       "      <td>A White Kitchen Cabinets With Sink</td>\n",
       "      <td>['white', 'kitchen', 'cabinet', 'sink']</td>\n",
       "    </tr>\n",
       "    <tr>\n",
       "      <th>4</th>\n",
       "      <td>7546276</td>\n",
       "      <td>modern interior</td>\n",
       "      <td>Free stock photo of apartment, bed, bedroom</td>\n",
       "      <td>['free', 'stock', 'photo', 'apartment', 'bed',...</td>\n",
       "    </tr>\n",
       "    <tr>\n",
       "      <th>...</th>\n",
       "      <td>...</td>\n",
       "      <td>...</td>\n",
       "      <td>...</td>\n",
       "      <td>...</td>\n",
       "    </tr>\n",
       "    <tr>\n",
       "      <th>597</th>\n",
       "      <td>3509742</td>\n",
       "      <td>rustic interior</td>\n",
       "      <td>coffee brazil, coffee, roça</td>\n",
       "      <td>['coffee', 'brazil', 'coffee', 'roça']</td>\n",
       "    </tr>\n",
       "    <tr>\n",
       "      <th>598</th>\n",
       "      <td>3886504</td>\n",
       "      <td>rustic interior</td>\n",
       "      <td>silk flowers, floral arrangement, vase</td>\n",
       "      <td>['silk', 'flower', 'floral', 'arrangement', 'v...</td>\n",
       "    </tr>\n",
       "    <tr>\n",
       "      <th>599</th>\n",
       "      <td>3886500</td>\n",
       "      <td>rustic interior</td>\n",
       "      <td>skeleton key, antique, old world</td>\n",
       "      <td>['skeleton', 'key', 'antique', 'old', 'world']</td>\n",
       "    </tr>\n",
       "    <tr>\n",
       "      <th>600</th>\n",
       "      <td>2368997</td>\n",
       "      <td>rustic interior</td>\n",
       "      <td>rope, lamp, chandelier</td>\n",
       "      <td>['rope', 'lamp', 'chandelier']</td>\n",
       "    </tr>\n",
       "    <tr>\n",
       "      <th>601</th>\n",
       "      <td>875079</td>\n",
       "      <td>rustic interior</td>\n",
       "      <td>cabin, alaska, men</td>\n",
       "      <td>['cabin', 'alaska', 'men']</td>\n",
       "    </tr>\n",
       "  </tbody>\n",
       "</table>\n",
       "<p>2106 rows × 4 columns</p>\n",
       "</div>"
      ],
      "text/plain": [
       "           id            style  \\\n",
       "0    10339232  modern interior   \n",
       "1     7546288  modern interior   \n",
       "2     7546218  modern interior   \n",
       "3     7545855  modern interior   \n",
       "4     7546276  modern interior   \n",
       "..        ...              ...   \n",
       "597   3509742  rustic interior   \n",
       "598   3886504  rustic interior   \n",
       "599   3886500  rustic interior   \n",
       "600   2368997  rustic interior   \n",
       "601    875079  rustic interior   \n",
       "\n",
       "                                                  tags  \\\n",
       "0                              Modern Office Interior    \n",
       "1                            White and Brown Bed Linen   \n",
       "2    A Dining Table and Chairs with Hanging Lights ...   \n",
       "3                   A White Kitchen Cabinets With Sink   \n",
       "4          Free stock photo of apartment, bed, bedroom   \n",
       "..                                                 ...   \n",
       "597                        coffee brazil, coffee, roça   \n",
       "598             silk flowers, floral arrangement, vase   \n",
       "599                   skeleton key, antique, old world   \n",
       "600                             rope, lamp, chandelier   \n",
       "601                                 cabin, alaska, men   \n",
       "\n",
       "                                            tags_clean  \n",
       "0                     ['modern', 'office', 'interior']  \n",
       "1                   ['white', 'brown', 'bed', 'linen']  \n",
       "2    ['dining', 'table', 'chair', 'hanging', 'light...  \n",
       "3              ['white', 'kitchen', 'cabinet', 'sink']  \n",
       "4    ['free', 'stock', 'photo', 'apartment', 'bed',...  \n",
       "..                                                 ...  \n",
       "597             ['coffee', 'brazil', 'coffee', 'roça']  \n",
       "598  ['silk', 'flower', 'floral', 'arrangement', 'v...  \n",
       "599     ['skeleton', 'key', 'antique', 'old', 'world']  \n",
       "600                     ['rope', 'lamp', 'chandelier']  \n",
       "601                         ['cabin', 'alaska', 'men']  \n",
       "\n",
       "[2106 rows x 4 columns]"
      ]
     },
     "execution_count": 15,
     "metadata": {},
     "output_type": "execute_result"
    }
   ],
   "source": [
    "# Apply to all texts\n",
    "style_data['tags_clean'] = style_data.tags.apply(clean)\n",
    "style_data['tags_clean'] = style_data['tags_clean'].astype('str')\n",
    "style_data"
   ]
  },
  {
   "cell_type": "markdown",
   "id": "a8c71787-2b46-4301-b959-c6b181c1dd35",
   "metadata": {
    "tags": []
   },
   "source": [
    "# Naive Bayes Model"
   ]
  },
  {
   "cell_type": "code",
   "execution_count": 44,
   "id": "f0a178f4-7b33-4f0d-902d-074ea85505c1",
   "metadata": {},
   "outputs": [],
   "source": [
    "# Train Test Split\n",
    "\n",
    "X = style_data['tags_clean']\n",
    "y = style_data['style']\n",
    "\n",
    "X_train, X_test, y_train, y_test = train_test_split(X, y, test_size=0.30, random_state=42)"
   ]
  },
  {
   "cell_type": "code",
   "execution_count": 19,
   "id": "d32a522d-2e49-4268-871f-415ba4e94ba2",
   "metadata": {},
   "outputs": [
    {
     "name": "stdout",
     "output_type": "stream",
     "text": [
      "Fitting 5 folds for each of 9 candidates, totalling 45 fits\n"
     ]
    },
    {
     "data": {
      "text/plain": [
       "GridSearchCV(cv=5,\n",
       "             estimator=Pipeline(steps=[('tfidf', TfidfVectorizer()),\n",
       "                                       ('nb', MultinomialNB())]),\n",
       "             n_jobs=-1,\n",
       "             param_grid={'nb__alpha': (0.01, 0.1, 1),\n",
       "                         'tfidf__ngram_range': ((1, 1), (2, 2), (3, 3))},\n",
       "             scoring='accuracy', verbose=1)"
      ]
     },
     "execution_count": 19,
     "metadata": {},
     "output_type": "execute_result"
    }
   ],
   "source": [
    "# Create Pipeline\n",
    "pipeline = Pipeline([\n",
    "    ('tfidf', TfidfVectorizer()),\n",
    "    ('nb', MultinomialNB()),\n",
    "])\n",
    "\n",
    "# Set parameters to search\n",
    "parameters = {\n",
    "    'tfidf__ngram_range': ((1,1), (2,2), (3,3)),\n",
    "    'nb__alpha': (0.01,0.1,1),}\n",
    "\n",
    "# Perform grid search\n",
    "grid_search = GridSearchCV(pipeline, parameters, n_jobs=-1, \n",
    "                           verbose=1, scoring = \"accuracy\", \n",
    "                           refit=True, cv=5)\n",
    "\n",
    "grid_search.fit(X_train,y_train)\n"
   ]
  },
  {
   "cell_type": "code",
   "execution_count": 20,
   "id": "8f0fea1c-3780-4d2e-bf7e-354774c0bd2a",
   "metadata": {},
   "outputs": [
    {
     "data": {
      "text/plain": [
       "{'nb__alpha': 0.1, 'tfidf__ngram_range': (1, 1)}"
      ]
     },
     "metadata": {},
     "output_type": "display_data"
    },
    {
     "data": {
      "text/plain": [
       "0.5061016949152543"
      ]
     },
     "execution_count": 20,
     "metadata": {},
     "output_type": "execute_result"
    }
   ],
   "source": [
    "display(grid_search.best_params_)\n",
    "grid_search.best_score_"
   ]
  },
  {
   "cell_type": "code",
   "execution_count": 21,
   "id": "fe06d786-18a3-4904-80d0-6f4c3a4b1bca",
   "metadata": {},
   "outputs": [
    {
     "data": {
      "text/plain": [
       "Pipeline(steps=[('tfidfvectorizer', TfidfVectorizer()),\n",
       "                ('multinomialnb', MultinomialNB(alpha=0.1))])"
      ]
     },
     "execution_count": 21,
     "metadata": {},
     "output_type": "execute_result"
    }
   ],
   "source": [
    "# Build the model\n",
    "model = make_pipeline(TfidfVectorizer(ngram_range=(1,1)), MultinomialNB(alpha=0.1))\n",
    "\n",
    "# Train the model using the training data\n",
    "model.fit(X_train, y_train)"
   ]
  },
  {
   "cell_type": "code",
   "execution_count": 22,
   "id": "af7b9a4c-2683-4b0b-9e6a-b4c222e4d846",
   "metadata": {},
   "outputs": [],
   "source": [
    "# Predict the categories of the test data\n",
    "predicted_categories = model.predict(X_test)"
   ]
  },
  {
   "cell_type": "code",
   "execution_count": 24,
   "id": "4b3efb4a-6003-4ddc-965e-2e28a0a44022",
   "metadata": {},
   "outputs": [
    {
     "name": "stdout",
     "output_type": "stream",
     "text": [
      "The accuracy is 0.5126582278481012\n"
     ]
    }
   ],
   "source": [
    "print(\"The accuracy is {}\".format(accuracy_score(y_test, predicted_categories)))"
   ]
  },
  {
   "cell_type": "markdown",
   "id": "c8f5dfd1-2c09-4cda-a2a0-5d08771197b6",
   "metadata": {},
   "source": [
    "# Linear SVM Model"
   ]
  },
  {
   "cell_type": "code",
   "execution_count": 25,
   "id": "3857d264-6c22-4487-b58d-b996b2e3dc00",
   "metadata": {},
   "outputs": [
    {
     "name": "stdout",
     "output_type": "stream",
     "text": [
      "Wall time: 0 ns\n",
      "accuracy 0.5253164556962026\n"
     ]
    }
   ],
   "source": [
    "sgd = Pipeline([('vect', CountVectorizer()),\n",
    "                ('tfidf', TfidfTransformer()),\n",
    "                ('clf', SGDClassifier(loss='hinge', penalty='l2',alpha=1e-3, random_state=42, max_iter=5, tol=None)),\n",
    "               ])\n",
    "\n",
    "sgd.fit(X_train, y_train)\n",
    "\n",
    "%time\n",
    "\n",
    "y_pred = sgd.predict(X_test)\n",
    "\n",
    "print('accuracy %s' % accuracy_score(y_pred, y_test))"
   ]
  },
  {
   "cell_type": "markdown",
   "id": "e445131c-e9be-40d7-9ca4-f46313018b18",
   "metadata": {},
   "source": [
    "# Deep Learning Models"
   ]
  },
  {
   "cell_type": "code",
   "execution_count": 26,
   "id": "19685bda-85de-477a-a64c-8db12a1eed24",
   "metadata": {},
   "outputs": [
    {
     "name": "stdout",
     "output_type": "stream",
     "text": [
      "Shape of label tensor: (2106, 6)\n"
     ]
    }
   ],
   "source": [
    "# Obtaining the y values one more time in numerical representation\n",
    "y = pd.get_dummies(style_data['style']).values\n",
    "print('Shape of label tensor:', y.shape)"
   ]
  },
  {
   "cell_type": "code",
   "execution_count": 27,
   "id": "384ff803-4525-4ebb-8c6b-9cae504cf5b3",
   "metadata": {},
   "outputs": [],
   "source": [
    "# Train Test Split\n",
    "X = style_data['tags']\n",
    "\n",
    "X_train, X_test, y_train, y_test = train_test_split(X, y, test_size=0.30, random_state=42)"
   ]
  },
  {
   "cell_type": "code",
   "execution_count": 28,
   "id": "5fa54d9f-25ec-4539-baac-64d3921e829d",
   "metadata": {},
   "outputs": [],
   "source": [
    "# Tokenazation and padding\n",
    "\n",
    "tokenizer = Tokenizer()\n",
    "tokenizer.fit_on_texts(X_train)\n",
    "\n",
    "X_train_token = tokenizer.texts_to_sequences(X_train)\n",
    "X_test_token = tokenizer.texts_to_sequences(X_test)\n",
    "\n",
    "\n",
    "X_train_pad = pad_sequences(X_train_token, maxlen=200, dtype='float32')\n",
    "X_test_pad = pad_sequences(X_test_token, maxlen=200, dtype='float32')"
   ]
  },
  {
   "cell_type": "code",
   "execution_count": 29,
   "id": "b3126b0d-28fb-4e28-84a4-290ec027b2e7",
   "metadata": {},
   "outputs": [
    {
     "data": {
      "text/plain": [
       "1356"
      ]
     },
     "execution_count": 29,
     "metadata": {},
     "output_type": "execute_result"
    }
   ],
   "source": [
    "# Vocabulary size\n",
    "vocab_size = len(tokenizer.word_index)\n",
    "vocab_size"
   ]
  },
  {
   "cell_type": "markdown",
   "id": "8ab3c49d-e715-4415-ab10-456bca482ea5",
   "metadata": {},
   "source": [
    "## CNN Model"
   ]
  },
  {
   "cell_type": "code",
   "execution_count": 30,
   "id": "ac386d3b-5792-4354-abf6-0d60e2e37542",
   "metadata": {},
   "outputs": [],
   "source": [
    "def cnn_model(vocab_size):\n",
    "    model = Sequential()\n",
    "    model.add(layers.Embedding(input_dim = vocab_size+1, output_dim=10, mask_zero=False, input_length=200))\n",
    "    model.add(layers.Conv1D(16,3))\n",
    "    model.add(layers.Flatten())\n",
    "    model.add(layers.Dense(5,))\n",
    "    model.add(layers.Dense(6, activation='softmax'))\n",
    "    \n",
    "    model.compile(loss='categorical_crossentropy', optimizer='adam', metrics=['accuracy'])\n",
    "    \n",
    "    return model\n",
    "\n",
    "cnn_model = cnn_model(vocab_size)"
   ]
  },
  {
   "cell_type": "code",
   "execution_count": 31,
   "id": "38ce3ab6-5738-49e8-9541-16169b2e7fa0",
   "metadata": {},
   "outputs": [
    {
     "name": "stdout",
     "output_type": "stream",
     "text": [
      "Model: \"sequential\"\n",
      "_________________________________________________________________\n",
      "Layer (type)                 Output Shape              Param #   \n",
      "=================================================================\n",
      "embedding (Embedding)        (None, 200, 10)           13570     \n",
      "_________________________________________________________________\n",
      "conv1d (Conv1D)              (None, 198, 16)           496       \n",
      "_________________________________________________________________\n",
      "flatten (Flatten)            (None, 3168)              0         \n",
      "_________________________________________________________________\n",
      "dense (Dense)                (None, 5)                 15845     \n",
      "_________________________________________________________________\n",
      "dense_1 (Dense)              (None, 6)                 36        \n",
      "=================================================================\n",
      "Total params: 29,947\n",
      "Trainable params: 29,947\n",
      "Non-trainable params: 0\n",
      "_________________________________________________________________\n"
     ]
    }
   ],
   "source": [
    "cnn_model.summary()"
   ]
  },
  {
   "cell_type": "code",
   "execution_count": 32,
   "id": "de6dd428-c0aa-4dbb-a34b-2e8d297db587",
   "metadata": {},
   "outputs": [
    {
     "name": "stdout",
     "output_type": "stream",
     "text": [
      "Epoch 1/100\n",
      "74/74 [==============================] - 1s 7ms/step - loss: 1.6900 - accuracy: 0.3249 - val_loss: 1.6836 - val_accuracy: 0.3525\n",
      "Epoch 2/100\n",
      "74/74 [==============================] - 0s 4ms/step - loss: 1.5754 - accuracy: 0.3885 - val_loss: 1.5195 - val_accuracy: 0.4034\n",
      "Epoch 3/100\n",
      "74/74 [==============================] - 0s 5ms/step - loss: 1.4020 - accuracy: 0.4648 - val_loss: 1.4528 - val_accuracy: 0.4305\n",
      "Epoch 4/100\n",
      "74/74 [==============================] - 0s 6ms/step - loss: 1.2867 - accuracy: 0.4970 - val_loss: 1.4542 - val_accuracy: 0.4271\n",
      "Epoch 5/100\n",
      "74/74 [==============================] - 0s 6ms/step - loss: 1.2044 - accuracy: 0.5276 - val_loss: 1.4542 - val_accuracy: 0.4237\n",
      "Epoch 6/100\n",
      "74/74 [==============================] - 0s 6ms/step - loss: 1.1215 - accuracy: 0.5632 - val_loss: 1.5260 - val_accuracy: 0.4068\n",
      "Epoch 7/100\n",
      "74/74 [==============================] - 0s 5ms/step - loss: 1.0451 - accuracy: 0.5954 - val_loss: 1.5148 - val_accuracy: 0.4339\n",
      "Epoch 8/100\n",
      "74/74 [==============================] - 0s 4ms/step - loss: 0.9713 - accuracy: 0.6200 - val_loss: 1.5665 - val_accuracy: 0.4373\n",
      "Epoch 9/100\n",
      "74/74 [==============================] - 0s 6ms/step - loss: 0.8952 - accuracy: 0.6548 - val_loss: 1.6404 - val_accuracy: 0.4237\n",
      "Epoch 10/100\n",
      "74/74 [==============================] - 0s 5ms/step - loss: 0.8289 - accuracy: 0.6811 - val_loss: 1.7083 - val_accuracy: 0.4169\n",
      "Epoch 11/100\n",
      "74/74 [==============================] - 0s 5ms/step - loss: 0.7556 - accuracy: 0.7201 - val_loss: 1.8060 - val_accuracy: 0.4136\n",
      "Epoch 12/100\n",
      "74/74 [==============================] - 0s 6ms/step - loss: 0.6926 - accuracy: 0.7472 - val_loss: 1.9005 - val_accuracy: 0.4169\n",
      "Epoch 13/100\n",
      "74/74 [==============================] - 0s 6ms/step - loss: 0.6290 - accuracy: 0.7761 - val_loss: 2.0282 - val_accuracy: 0.4169\n"
     ]
    },
    {
     "data": {
      "text/plain": [
       "<tensorflow.python.keras.callbacks.History at 0x1bbf2b57c70>"
      ]
     },
     "execution_count": 32,
     "metadata": {},
     "output_type": "execute_result"
    }
   ],
   "source": [
    "es = EarlyStopping(patience=10, restore_best_weights=True)\n",
    "\n",
    "cnn_model.fit(X_train_pad, y_train, \n",
    "          epochs=100, \n",
    "          batch_size=16,\n",
    "          validation_split=0.2,\n",
    "          callbacks=[es]\n",
    "         )"
   ]
  },
  {
   "cell_type": "code",
   "execution_count": 33,
   "id": "730dcd4d-91fc-4b95-8951-5bee1f488146",
   "metadata": {},
   "outputs": [
    {
     "name": "stdout",
     "output_type": "stream",
     "text": [
      "20/20 [==============================] - 0s 5ms/step - loss: 1.4419 - accuracy: 0.4288\n",
      "The accuracy evaluated on the test set is of 42.880%\n"
     ]
    }
   ],
   "source": [
    "res = cnn_model.evaluate(X_test_pad, y_test)\n",
    "print(f'The accuracy evaluated on the test set is of {res[1]*100:.3f}%')"
   ]
  },
  {
   "cell_type": "markdown",
   "id": "f34b8bed-a0dc-4776-80d9-64dd714660ba",
   "metadata": {},
   "source": [
    "## RNN Model"
   ]
  },
  {
   "cell_type": "code",
   "execution_count": 34,
   "id": "f35b20df-b1a5-47e1-84c7-a9ed6b0d02e1",
   "metadata": {},
   "outputs": [],
   "source": [
    "def rnn_model(vocab_size):\n",
    "    model = Sequential()\n",
    "    model.add(layers.Embedding(input_dim = vocab_size+1, output_dim=10, mask_zero=False, input_length=200))\n",
    "    model.add(layers.LSTM(16))\n",
    "    model.add(layers.Flatten())\n",
    "    model.add(layers.Dense(5,))\n",
    "    model.add(layers.Dense(6, activation='softmax'))\n",
    "    \n",
    "    model.compile(loss='categorical_crossentropy', optimizer='adam', metrics=['accuracy'])\n",
    "    \n",
    "    return model\n",
    "\n",
    "rnn_model = rnn_model(vocab_size)"
   ]
  },
  {
   "cell_type": "code",
   "execution_count": 35,
   "id": "55e7655d-7d74-4fc4-b463-297fba3fd1b3",
   "metadata": {},
   "outputs": [
    {
     "name": "stdout",
     "output_type": "stream",
     "text": [
      "Model: \"sequential_1\"\n",
      "_________________________________________________________________\n",
      "Layer (type)                 Output Shape              Param #   \n",
      "=================================================================\n",
      "embedding_1 (Embedding)      (None, 200, 10)           13570     \n",
      "_________________________________________________________________\n",
      "lstm (LSTM)                  (None, 16)                1728      \n",
      "_________________________________________________________________\n",
      "flatten_1 (Flatten)          (None, 16)                0         \n",
      "_________________________________________________________________\n",
      "dense_2 (Dense)              (None, 5)                 85        \n",
      "_________________________________________________________________\n",
      "dense_3 (Dense)              (None, 6)                 36        \n",
      "=================================================================\n",
      "Total params: 15,419\n",
      "Trainable params: 15,419\n",
      "Non-trainable params: 0\n",
      "_________________________________________________________________\n"
     ]
    }
   ],
   "source": [
    "rnn_model.summary()"
   ]
  },
  {
   "cell_type": "code",
   "execution_count": 36,
   "id": "d50505a5-7355-4999-a07f-768312364d6a",
   "metadata": {},
   "outputs": [
    {
     "name": "stdout",
     "output_type": "stream",
     "text": [
      "Epoch 1/100\n",
      "74/74 [==============================] - 8s 108ms/step - loss: 1.7187 - accuracy: 0.3265 - val_loss: 1.7073 - val_accuracy: 0.3085\n",
      "Epoch 2/100\n",
      "74/74 [==============================] - 7s 90ms/step - loss: 1.6455 - accuracy: 0.3333 - val_loss: 1.6361 - val_accuracy: 0.3661\n",
      "Epoch 3/100\n",
      "74/74 [==============================] - 6s 77ms/step - loss: 1.5399 - accuracy: 0.4258 - val_loss: 1.5407 - val_accuracy: 0.4203\n",
      "Epoch 4/100\n",
      "74/74 [==============================] - 8s 108ms/step - loss: 1.4139 - accuracy: 0.4538 - val_loss: 1.4734 - val_accuracy: 0.4203\n",
      "Epoch 5/100\n",
      "74/74 [==============================] - 7s 88ms/step - loss: 1.3240 - accuracy: 0.4682 - val_loss: 1.4424 - val_accuracy: 0.4136\n",
      "Epoch 6/100\n",
      "74/74 [==============================] - 6s 79ms/step - loss: 1.2522 - accuracy: 0.4902 - val_loss: 1.4267 - val_accuracy: 0.4169\n",
      "Epoch 7/100\n",
      "74/74 [==============================] - 6s 81ms/step - loss: 1.1914 - accuracy: 0.5174 - val_loss: 1.4495 - val_accuracy: 0.4305\n",
      "Epoch 8/100\n",
      "74/74 [==============================] - 6s 82ms/step - loss: 1.1236 - accuracy: 0.5479 - val_loss: 1.4081 - val_accuracy: 0.4407\n",
      "Epoch 9/100\n",
      "74/74 [==============================] - 6s 86ms/step - loss: 1.0520 - accuracy: 0.5827 - val_loss: 1.3945 - val_accuracy: 0.4508\n",
      "Epoch 10/100\n",
      "74/74 [==============================] - 6s 82ms/step - loss: 0.9826 - accuracy: 0.6260 - val_loss: 1.4375 - val_accuracy: 0.4508\n",
      "Epoch 11/100\n",
      "74/74 [==============================] - 5s 72ms/step - loss: 0.8886 - accuracy: 0.6718 - val_loss: 1.4885 - val_accuracy: 0.4712\n",
      "Epoch 12/100\n",
      "74/74 [==============================] - 6s 79ms/step - loss: 0.8132 - accuracy: 0.6896 - val_loss: 1.5451 - val_accuracy: 0.4610\n",
      "Epoch 13/100\n",
      "74/74 [==============================] - 6s 81ms/step - loss: 0.7492 - accuracy: 0.7065 - val_loss: 1.5761 - val_accuracy: 0.4576\n",
      "Epoch 14/100\n",
      "74/74 [==============================] - 7s 95ms/step - loss: 0.6938 - accuracy: 0.7209 - val_loss: 1.6413 - val_accuracy: 0.4576\n",
      "Epoch 15/100\n",
      "74/74 [==============================] - 5s 73ms/step - loss: 0.6525 - accuracy: 0.7481 - val_loss: 1.7643 - val_accuracy: 0.4441\n",
      "Epoch 16/100\n",
      "74/74 [==============================] - 5s 68ms/step - loss: 0.6124 - accuracy: 0.7701 - val_loss: 1.7831 - val_accuracy: 0.4373\n",
      "Epoch 17/100\n",
      "74/74 [==============================] - 7s 93ms/step - loss: 0.5774 - accuracy: 0.7930 - val_loss: 1.9863 - val_accuracy: 0.4271\n",
      "Epoch 18/100\n",
      "74/74 [==============================] - 5s 73ms/step - loss: 0.5706 - accuracy: 0.8092 - val_loss: 1.8365 - val_accuracy: 0.4034\n",
      "Epoch 19/100\n",
      "74/74 [==============================] - 5s 74ms/step - loss: 0.5496 - accuracy: 0.8075 - val_loss: 1.9660 - val_accuracy: 0.4475\n"
     ]
    },
    {
     "data": {
      "text/plain": [
       "<tensorflow.python.keras.callbacks.History at 0x1bbf4463af0>"
      ]
     },
     "execution_count": 36,
     "metadata": {},
     "output_type": "execute_result"
    }
   ],
   "source": [
    "es = EarlyStopping(patience=10, restore_best_weights=True)\n",
    "\n",
    "rnn_model.fit(X_train_pad, y_train, \n",
    "          epochs=100, \n",
    "          batch_size=16,\n",
    "          validation_split=0.2,\n",
    "          callbacks=[es]\n",
    "         )"
   ]
  },
  {
   "cell_type": "code",
   "execution_count": 37,
   "id": "4d74898c-08f9-4696-bd5d-31166a02bc69",
   "metadata": {},
   "outputs": [
    {
     "name": "stdout",
     "output_type": "stream",
     "text": [
      "20/20 [==============================] - 0s 13ms/step - loss: 1.4333 - accuracy: 0.4699\n",
      "The accuracy evaluated on the test set is of 46.994%\n"
     ]
    }
   ],
   "source": [
    "res_rnn = rnn_model.evaluate(X_test_pad, y_test)\n",
    "print(f'The accuracy evaluated on the test set is of {res_rnn[1]*100:.3f}%')"
   ]
  },
  {
   "cell_type": "code",
   "execution_count": 40,
   "id": "bcf6a8ec-678f-4999-8c0f-d23798403f01",
   "metadata": {},
   "outputs": [
    {
     "name": "stdout",
     "output_type": "stream",
     "text": [
      "3\n"
     ]
    }
   ],
   "source": [
    "# custom function to have fun\n",
    "def my_predictions_deep(my_sentence, model):\n",
    "    my_sentence = tokenizer.texts_to_sequences(my_sentence)\n",
    "    my_sentence = pad_sequences(my_sentence, maxlen=200, dtype='float32')\n",
    "    prediction = np.argmax(model.predict(my_sentence), axis=-1)\n",
    "    return prediction[0]\n",
    "\n",
    "my_sentence = 'I like modern homes'\n",
    "print(my_predictions_deep(my_sentence, rnn_model))"
   ]
  },
  {
   "cell_type": "markdown",
   "id": "6eaaace7-2267-4e5d-81b2-ccfa94182733",
   "metadata": {},
   "source": [
    "# Selecting the Model and making it into pickle file"
   ]
  },
  {
   "cell_type": "code",
   "execution_count": 42,
   "id": "9d214747-5b25-47fc-8b0f-39bde63412b8",
   "metadata": {},
   "outputs": [],
   "source": [
    "import pickle\n",
    "\n",
    "pickle.dump(sgd, open('model_sgd.pkl','wb'))"
   ]
  },
  {
   "cell_type": "code",
   "execution_count": 45,
   "id": "b928907f-34db-4b3b-a601-a9a08ceb9b21",
   "metadata": {},
   "outputs": [
    {
     "name": "stdout",
     "output_type": "stream",
     "text": [
      "0.5253164556962026\n"
     ]
    }
   ],
   "source": [
    "loaded_model = pickle.load(open('model_sgd.pkl', 'rb'))\n",
    "result = loaded_model.score(X_test, y_test)\n",
    "print(result)"
   ]
  }
 ],
 "metadata": {
  "kernelspec": {
   "display_name": "Python 3 (ipykernel)",
   "language": "python",
   "name": "python3"
  },
  "language_info": {
   "codemirror_mode": {
    "name": "ipython",
    "version": 3
   },
   "file_extension": ".py",
   "mimetype": "text/x-python",
   "name": "python",
   "nbconvert_exporter": "python",
   "pygments_lexer": "ipython3",
   "version": "3.8.5"
  }
 },
 "nbformat": 4,
 "nbformat_minor": 5
}
